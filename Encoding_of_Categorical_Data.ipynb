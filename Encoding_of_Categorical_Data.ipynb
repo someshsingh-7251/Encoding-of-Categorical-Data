{
  "metadata": {
    "kernelspec": {
      "language": "python",
      "display_name": "Python 3",
      "name": "python3"
    },
    "language_info": {
      "name": "python",
      "version": "3.10.14",
      "mimetype": "text/x-python",
      "codemirror_mode": {
        "name": "ipython",
        "version": 3
      },
      "pygments_lexer": "ipython3",
      "nbconvert_exporter": "python",
      "file_extension": ".py"
    },
    "kaggle": {
      "accelerator": "none",
      "dataSources": [
        {
          "sourceId": 9371441,
          "sourceType": "datasetVersion",
          "datasetId": 5683715
        }
      ],
      "dockerImageVersionId": 30761,
      "isInternetEnabled": true,
      "language": "python",
      "sourceType": "notebook",
      "isGpuEnabled": false
    },
    "colab": {
      "name": "Encoding of Categorical Data",
      "provenance": [],
      "include_colab_link": true
    }
  },
  "nbformat_minor": 0,
  "nbformat": 4,
  "cells": [
    {
      "cell_type": "markdown",
      "metadata": {
        "id": "view-in-github",
        "colab_type": "text"
      },
      "source": [
        "<a href=\"https://colab.research.google.com/github/someshsingh-7251/Encoding-of-Categorical-Data/blob/main/Encoding_of_Categorical_Data.ipynb\" target=\"_parent\"><img src=\"https://colab.research.google.com/assets/colab-badge.svg\" alt=\"Open In Colab\"/></a>"
      ]
    },
    {
      "cell_type": "markdown",
      "source": [
        "**For a given set of training data examples stored in a .CSV file, implement and demonstrate the conversion of categorical data to numeric of Tips.csv file using python libraries.**\n",
        "\n",
        "**Dataset: https://www.kaggle.com/datasets/hnazari8665/tipscsv**"
      ],
      "metadata": {
        "id": "iBBYl7BQV5do"
      }
    },
    {
      "cell_type": "code",
      "source": [
        "import pandas as pd\n",
        "import numpy as np\n",
        "from sklearn.preprocessing import LabelEncoder , OneHotEncoder\n"
      ],
      "metadata": {
        "execution": {
          "iopub.status.busy": "2024-09-26T09:07:57.008565Z",
          "iopub.execute_input": "2024-09-26T09:07:57.009633Z",
          "iopub.status.idle": "2024-09-26T09:07:57.016012Z",
          "shell.execute_reply.started": "2024-09-26T09:07:57.009574Z",
          "shell.execute_reply": "2024-09-26T09:07:57.014366Z"
        },
        "trusted": true,
        "id": "9UgB6D8XV5dp"
      },
      "execution_count": null,
      "outputs": []
    },
    {
      "cell_type": "code",
      "source": [
        "# Load the dataset\n",
        "df = pd.read_csv('/kaggle/input/categorical-data/tips.csv')\n",
        "\n",
        "#Display the first few rows of the dataframe to understand ther structure\n",
        "print(df.head())"
      ],
      "metadata": {
        "execution": {
          "iopub.status.busy": "2024-09-26T09:07:57.018891Z",
          "iopub.execute_input": "2024-09-26T09:07:57.019481Z",
          "iopub.status.idle": "2024-09-26T09:07:57.047725Z",
          "shell.execute_reply.started": "2024-09-26T09:07:57.019421Z",
          "shell.execute_reply": "2024-09-26T09:07:57.046056Z"
        },
        "trusted": true,
        "id": "wrKpmb_ZV5dq",
        "outputId": "8e2e0174-858f-49e1-b325-d09a0411ed54"
      },
      "execution_count": null,
      "outputs": [
        {
          "name": "stdout",
          "text": "   total_bill   tip     sex smoker  day    time  size  price_per_person  \\\n0       16.99  1.01  Female     No  Sun  Dinner     2              8.49   \n1       10.34  1.66    Male     No  Sun  Dinner     3              3.45   \n2       21.01  3.50    Male     No  Sun  Dinner     3              7.00   \n3       23.68  3.31    Male     No  Sun  Dinner     2             11.84   \n4       24.59  3.61  Female     No  Sun  Dinner     4              6.15   \n\n           Payer Name         CC Number Payment ID  \n0  Christy Cunningham  3560325168603410    Sun2959  \n1      Douglas Tucker  4478071379779230    Sun4608  \n2      Travis Walters  6011812112971322    Sun4458  \n3    Nathaniel Harris  4676137647685994    Sun5260  \n4        Tonya Carter  4832732618637221    Sun2251  \n",
          "output_type": "stream"
        }
      ]
    },
    {
      "cell_type": "markdown",
      "source": [
        "# Identify Catagorical Columns\n",
        "\n",
        "**To proceed, you need to identify which columns are catagorical. Usually, catagorical data can be strings or objects in a dataframe**"
      ],
      "metadata": {
        "id": "_ShaAutEV5dq"
      }
    },
    {
      "cell_type": "code",
      "source": [
        "# Display column types to find which ones are catagorical\n",
        "print(df.dtypes)\n",
        "\n",
        "# Alternatively, you can manually list the columns\n",
        "catagorical_columns = ['sex', 'smoker', 'day', 'time'] #Example of tips dataset"
      ],
      "metadata": {
        "execution": {
          "iopub.status.busy": "2024-09-26T09:07:57.050305Z",
          "iopub.execute_input": "2024-09-26T09:07:57.05138Z",
          "iopub.status.idle": "2024-09-26T09:07:57.061793Z",
          "shell.execute_reply.started": "2024-09-26T09:07:57.051309Z",
          "shell.execute_reply": "2024-09-26T09:07:57.059985Z"
        },
        "trusted": true,
        "id": "MCssULrYV5dr",
        "outputId": "b09365ec-a178-4eab-ac09-8e62e7ae480f"
      },
      "execution_count": null,
      "outputs": [
        {
          "name": "stdout",
          "text": "total_bill          float64\ntip                 float64\nsex                  object\nsmoker               object\nday                  object\ntime                 object\nsize                  int64\nprice_per_person    float64\nPayer Name           object\nCC Number             int64\nPayment ID           object\ndtype: object\n",
          "output_type": "stream"
        }
      ]
    },
    {
      "cell_type": "markdown",
      "source": [
        "# Convert Catagorical Data to Numeric"
      ],
      "metadata": {
        "id": "nQXSXBnWV5dr"
      }
    },
    {
      "cell_type": "markdown",
      "source": [
        "**There are two common methods for converting data to numeric:**\n",
        "\n",
        "**Label Encoding: Converts categories into integers (useful for ordinary categories). One Hot Encoding: Converts"
      ],
      "metadata": {
        "id": "KUdbJiOVV5ds"
      }
    },
    {
      "cell_type": "markdown",
      "source": [
        "# Label Encoding for Ordinal Catagories\n",
        "\n",
        "**Label Encoding is useful when the categoeical values have a natural order(for example, low, medium, high)**"
      ],
      "metadata": {
        "id": "bnzA_VLuV5ds"
      }
    },
    {
      "cell_type": "code",
      "source": [
        "# Apply Label Encoding\n",
        "label_encoder = LabelEncoder()\n",
        "\n",
        "df['sex'] = label_encoder.fit_transform(df['sex'])\n",
        "df['smoker'] = label_encoder.fit_transform(df['smoker'])\n",
        "df['day'] = label_encoder.fit_transform(df['day'])\n",
        "df['time'] = label_encoder.fit_transform(df['time'])\n",
        "\n",
        "# Display the transformed dataframe\n",
        "print(df.head())\n"
      ],
      "metadata": {
        "execution": {
          "iopub.status.busy": "2024-09-26T09:07:57.063901Z",
          "iopub.execute_input": "2024-09-26T09:07:57.065383Z",
          "iopub.status.idle": "2024-09-26T09:07:57.086113Z",
          "shell.execute_reply.started": "2024-09-26T09:07:57.065312Z",
          "shell.execute_reply": "2024-09-26T09:07:57.08386Z"
        },
        "trusted": true,
        "id": "ifXzJmKVV5dt",
        "outputId": "b6d68c6b-9437-4e1f-e1eb-233a55f355de"
      },
      "execution_count": null,
      "outputs": [
        {
          "name": "stdout",
          "text": "   total_bill   tip  sex  smoker  day  time  size  price_per_person  \\\n0       16.99  1.01    0       0    2     0     2              8.49   \n1       10.34  1.66    1       0    2     0     3              3.45   \n2       21.01  3.50    1       0    2     0     3              7.00   \n3       23.68  3.31    1       0    2     0     2             11.84   \n4       24.59  3.61    0       0    2     0     4              6.15   \n\n           Payer Name         CC Number Payment ID  \n0  Christy Cunningham  3560325168603410    Sun2959  \n1      Douglas Tucker  4478071379779230    Sun4608  \n2      Travis Walters  6011812112971322    Sun4458  \n3    Nathaniel Harris  4676137647685994    Sun5260  \n4        Tonya Carter  4832732618637221    Sun2251  \n",
          "output_type": "stream"
        }
      ]
    },
    {
      "cell_type": "markdown",
      "source": [
        "# One-Hot Encoding for Nominal Categories\n",
        "\n",
        "**One-Hot Encoding is useful when the cateforical values don't have any natural order (for example, 'male', 'female').**"
      ],
      "metadata": {
        "id": "U8iXPL8DV5dt"
      }
    },
    {
      "cell_type": "code",
      "source": [
        "# Apply One-Hot Encoding\n",
        "df_encoded  = pd.get_dummies(df,columns=['sex', 'smoker', 'day', 'time'], drop_first=True)\n",
        "\n",
        "#display the transformed dataframe\n",
        "print(df_encoded.head())"
      ],
      "metadata": {
        "execution": {
          "iopub.status.busy": "2024-09-26T09:07:57.090483Z",
          "iopub.execute_input": "2024-09-26T09:07:57.091152Z",
          "iopub.status.idle": "2024-09-26T09:07:57.116521Z",
          "shell.execute_reply.started": "2024-09-26T09:07:57.091088Z",
          "shell.execute_reply": "2024-09-26T09:07:57.114945Z"
        },
        "trusted": true,
        "id": "qjQVMKQqV5du",
        "outputId": "7041d35f-651d-4677-c767-57901c40ccba"
      },
      "execution_count": null,
      "outputs": [
        {
          "name": "stdout",
          "text": "   total_bill   tip  size  price_per_person          Payer Name  \\\n0       16.99  1.01     2              8.49  Christy Cunningham   \n1       10.34  1.66     3              3.45      Douglas Tucker   \n2       21.01  3.50     3              7.00      Travis Walters   \n3       23.68  3.31     2             11.84    Nathaniel Harris   \n4       24.59  3.61     4              6.15        Tonya Carter   \n\n          CC Number Payment ID  sex_1  smoker_1  day_1  day_2  day_3  time_1  \n0  3560325168603410    Sun2959  False     False  False   True  False   False  \n1  4478071379779230    Sun4608   True     False  False   True  False   False  \n2  6011812112971322    Sun4458   True     False  False   True  False   False  \n3  4676137647685994    Sun5260   True     False  False   True  False   False  \n4  4832732618637221    Sun2251  False     False  False   True  False   False  \n",
          "output_type": "stream"
        }
      ]
    }
  ]
}